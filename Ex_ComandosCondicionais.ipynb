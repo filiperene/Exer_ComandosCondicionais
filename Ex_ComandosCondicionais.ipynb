{
  "nbformat": 4,
  "nbformat_minor": 0,
  "metadata": {
    "colab": {
      "provenance": [],
      "collapsed_sections": [],
      "authorship_tag": "ABX9TyNjy5y3XbRk22S9WkV8IIzN",
      "include_colab_link": true
    },
    "kernelspec": {
      "name": "python3",
      "display_name": "Python 3"
    },
    "language_info": {
      "name": "python"
    }
  },
  "cells": [
    {
      "cell_type": "markdown",
      "metadata": {
        "id": "view-in-github",
        "colab_type": "text"
      },
      "source": [
        "<a href=\"https://colab.research.google.com/github/filiperene/Exer_ComandosCondicionais/blob/main/Ex_ComandosCondicionais.ipynb\" target=\"_parent\"><img src=\"https://colab.research.google.com/assets/colab-badge.svg\" alt=\"Open In Colab\"/></a>"
      ]
    },
    {
      "cell_type": "code",
      "execution_count": null,
      "metadata": {
        "id": "xcz5VWq8tOW7"
      },
      "outputs": [],
      "source": [
        "#Exercício 1\n",
        "a = int(input(\"Digite um número: \"))\n",
        "b = int(input(\"Digite outro número: \"))\n",
        "if(a>b):\n",
        "  print(\"O maior número é o: \" , a)\n",
        "elif(b>a):\n",
        "    print(\"O maior número é o: \" , b)"
      ]
    },
    {
      "cell_type": "code",
      "source": [
        "#Exercício 2\n",
        "a = int(input(\"Digite um número: \"))\n",
        "b = int(input(\"Digite outro número: \"))\n",
        "if(a>b):\n",
        "  print(\"O maior número é o: \" , a)\n",
        "else:\n",
        "  print(\"O maior número é o: \" , b)\n"
      ],
      "metadata": {
        "id": "gXJF5wMIuXdl"
      },
      "execution_count": null,
      "outputs": []
    },
    {
      "cell_type": "code",
      "source": [
        "#Exercício 3\n",
        "a = float(input(\"Digite um número: \"))\n",
        "if(a==0):\n",
        "  print(\"Número inválido \")\n",
        "else:\n",
        "  if(a<0):\n",
        "    print(\"Se trata de um número negativo\")\n",
        "  elif(a>0):\n",
        "    print(\"Se trata de um número positivo\")"
      ],
      "metadata": {
        "id": "bDgWsRSBvfP-"
      },
      "execution_count": null,
      "outputs": []
    },
    {
      "cell_type": "code",
      "source": [
        "#Exercício 4\n",
        "a = float(input(\"Digite um número: \"))\n",
        "if(a==0):\n",
        "  print(\"Número inválido \")\n",
        "else:\n",
        "  if(a<0):\n",
        "    print(\"Se trata de um número negativo\")\n",
        "  else:\n",
        "    print(\"Se trata de um número positivo\")"
      ],
      "metadata": {
        "id": "ydXnM3n1wF8a"
      },
      "execution_count": null,
      "outputs": []
    },
    {
      "cell_type": "code",
      "source": [
        "#Exercício 5\n",
        "a = float(input(\"Digite um número: \"))\n",
        "b = float(input(\"Digite outro número: \"))\n",
        "c = float(input(\"Digite mais um número: \"))\n",
        "if(a>b and a>c): \n",
        "  print(\"O maior número é o:\", a)\n",
        "elif(b>a and b>c):\n",
        "  print(\"O maior número é o: \", b)\n",
        "elif(c>a and c>b):\n",
        "  print(\"O maior número é o: \", c)\n",
        "if(a<b and a<c):\n",
        "  print(\"O menor número é o \", a)\n",
        "elif(b<a and b<c):\n",
        "  print(\"O menor número é o: \", b)\n",
        "elif(c<a and c<b):\n",
        "  print(\"O menor número é o: \", c)"
      ],
      "metadata": {
        "id": "oeFmY1rWwya8"
      },
      "execution_count": null,
      "outputs": []
    },
    {
      "cell_type": "code",
      "source": [
        "#Exercício 6\n",
        "a = int(input(\"Digite a primeira medida do triangulo \"))\n",
        "b = int(input(\"Digite a segunda medida do triangulo \"))\n",
        "c = int(input(\"Digite a terceira medida do triangulo \"))\n",
        "if(a<b+c and (math.sqrt((b-c)**2)<a) or b<a+c and (math.sqrt((a-c)**2)<b) or c<a+b and (math.sqrt((a-b)**2)<c)):\n",
        "  print(\"medidas possíveis para um triangulo \")\n",
        "  if(a==b and b==c and a==c):\n",
        "   print(\"se trata de um triangulo equilatero \")\n",
        "  elif(a==b or b==c or a==c):\n",
        "    print(\"se trata de um triangulo isosceles\")\n",
        "  else:\n",
        "    print(\"se trata de um triangulo escaleno\")\n",
        "else:\n",
        "  print(\"MEDIDAS INVÁLIDAS PARA UM TRIANGULO\")\n"
      ],
      "metadata": {
        "id": "rsWi-Zre0A_N"
      },
      "execution_count": null,
      "outputs": []
    },
    {
      "cell_type": "code",
      "source": [
        "#Exercicío 7\n",
        "a = int(input(\"Digite um número: \"))\n",
        "b = a%2\n",
        "if(b==0):\n",
        "  print(\"se trata de um número par\")\n",
        "else:\n",
        "  print(\"se trata de um número ímpar\")"
      ],
      "metadata": {
        "id": "PdIrBh1axU4M"
      },
      "execution_count": null,
      "outputs": []
    },
    {
      "cell_type": "code",
      "source": [
        "#Exercício 8\n",
        "a = int(input(\"CASO QUEIRA: MULTIPLICAR DIGITE 1 / SOMAR DIGITE 2 / DIVIDIR DIGITE 3 / DIMINUIR DIGITE 4 \"))\n",
        "if(a==1):\n",
        "  a1 = float(input(\"Digite um número: \"))\n",
        "  a2 = float(input(\"Digite outro número: \"))\n",
        "  print(\"A MULTIPLICAÇÃO DESSES NÚMEROS É IGUAL A: \", a1*a2)\n",
        "elif(a==2):\n",
        "  b1 = float(input(\"Digite um número: \"))\n",
        "  b2 = float(input(\"Digite outro número: \"))\n",
        "  print(\"A SOMA DESSES NÚMEROS É IGUAL A: \", b1+b2)\n",
        "elif(a==3):\n",
        "  c1 = float(input(\"Digite um número: \"))\n",
        "  c2 = float(input(\"Digite outro número: \"))\n",
        "  print(\"A DIVISÃO DESSES NÚMEROS É IGUAL A: \", c1/c2)\n",
        "elif(a==4):\n",
        "  d1 = float(input(\"Digite um número: \"))\n",
        "  d2 = float(input(\"Digite outro número: \"))\n",
        "  print(\"A DIFERENÇA DESSES NÚMEROS É IGUAL A: \", d1-d2)"
      ],
      "metadata": {
        "id": "fcP-kLRYyW7I"
      },
      "execution_count": null,
      "outputs": []
    },
    {
      "cell_type": "code",
      "source": [
        "#Exercício 9\n",
        "a = float(input(\"Digite a sua nota: \"))\n",
        "if(a<0):\n",
        "  print(\"NOTA INVÁLIDA\")\n",
        "elif(a>10):\n",
        "  print(\"NOTA INVÁLIDA\")\n",
        "elif(a>=0 and a<3):\n",
        "  print(\"REPROVADO \")\n",
        "elif(a>=3 and a<7):\n",
        "  print(\"PROVA FINAL\")\n",
        "elif(a>=7):\n",
        "  print(\"APROVADO\")"
      ],
      "metadata": {
        "id": "rPYpn-n32ahd"
      },
      "execution_count": null,
      "outputs": []
    },
    {
      "cell_type": "code",
      "source": [
        "#Exercício 10\n",
        "x = float(input(\"DIGITE A COORDENADA DE X: \"))\n",
        "y = float(input(\"DIGITE A COORDENADA DE Y: \"))\n",
        "if(x>0 and y>0):\n",
        "  print(\"1º QUADRANTE\")\n",
        "elif(y>0 and x<0):\n",
        "  print(\"2º QUADRANTE\")\n",
        "elif(x<0 and y<0):\n",
        "  print(\"3º QUADRANTE\")\n",
        "elif(x>0 and y<0):\n",
        "  print(\"4º QUADRANTE\")\n"
      ],
      "metadata": {
        "id": "KbNu5wKn39p1"
      },
      "execution_count": null,
      "outputs": []
    },
    {
      "cell_type": "code",
      "source": [
        "#Exercício 11\n",
        "a = int(input(\"QUANTO VOCE DESEJA SACAR \"))\n",
        "n = a//100\n",
        "r1 = a%100\n",
        "r2 = r1//50\n",
        "r3 = r1%50\n",
        "r4 = r3//20\n",
        "r5 = r3%20\n",
        "r6 = r5//10\n",
        "r7 = r5%10\n",
        "r8 = r7//5\n",
        "r9 = r7%5\n",
        "r10 = r9//2\n",
        "r11 = r9%2\n",
        "r12 = r11//1\n",
        "print( \"CÉDULAS DE 100: \", n)\n",
        "print( \"CÉDULAS DE 50: \", r2)\n",
        "print( \"CÉDULAS DE 20: \" , r4)\n",
        "print( \"CÉDULAS DE 10: \", r6)\n",
        "print( \"CÉDULAS DE 5: \" , r8)\n",
        "print( \"CÉDULAS DE 2: \" , r10)\n",
        "print( \"CÉDULAS DE 1: \" , r12)\n",
        "\n"
      ],
      "metadata": {
        "id": "LS42mLL76MnF"
      },
      "execution_count": null,
      "outputs": []
    },
    {
      "cell_type": "code",
      "source": [
        "#Exercício 12\n",
        "a = input(\"O PRODUTO FOI ENTREGUE? responda com y ou n: \")\n",
        "if(a==\"y\"):\n",
        "  a1=5\n",
        "else:\n",
        "  a1=0\n",
        "b = input(\"O PRODUTO CHEGOU NO TEMPO DETERMINADO? responda com y ou n: \")\n",
        "if(b==\"y\"):\n",
        "  a2=3\n",
        "else:\n",
        "  a2=0\n",
        "c = input(\"O PRODUTO CHEGOU EM BOM ESTADO? responda com y ou n: \")\n",
        "if(c==\"y\"):\n",
        "  a3=3\n",
        "else:\n",
        "  a3=0\n",
        "d = input(\"O PRODUTO ATENDEU AS SUAS EXPECTATIVAS? responda com y ou n: \")\n",
        "if(d==\"y\"):\n",
        "  a4=4\n",
        "else:\n",
        "  a4=0\n",
        "p=a1+a2+a3+a4\n",
        "if(p==0):\n",
        "  print(\"A PONTUAÇÃO DA PESQUISA FOI PÉSSIMA: \",p)\n",
        "elif(p==15):\n",
        "  print(\"A PONTUAÇÃO DA PESQUISA FOI EXCELENTE: \", p)\n",
        "elif(p==4):\n",
        "  print(\"PROBLEMA GRAVA NA ENTREGA: \", p)\n",
        "elif(p>8):\n",
        "  print(\"ENTREGA ACEITÁVEL: \",  p)\n",
        "elif(p<8):\n",
        "  print(\"ENTREGA RUIM\", p)\n",
        "elif(p==8):\n",
        "  print(\"MEDIANO\", p)\n",
        "\n",
        "\n",
        "\n",
        "\n",
        "\n",
        "\n",
        "\n"
      ],
      "metadata": {
        "id": "zJjiQLvF_6wI"
      },
      "execution_count": null,
      "outputs": []
    },
    {
      "cell_type": "code",
      "source": [
        "#Exercício 13\n",
        "a = input(\"TELEFONOU PARA A VÍTIMA? responda com Y ou N \")\n",
        "if(a==\"y\"):\n",
        "  a1=1\n",
        "else:\n",
        "  a1=0\n",
        "b = input(\"ESTEVE NO LOCAL DO CRIME? responda com Y ou N \")\n",
        "if(b==\"y\"):\n",
        " a2=1\n",
        "else:\n",
        "  a2=0\n",
        "c = input(\"TEVE CONTATO COM A VÍTIMA NO DIA DA MORTE? responda com Y ou N \")\n",
        "if(c==\"y\"):\n",
        "  a3=1\n",
        "else:\n",
        "  a3=0\n",
        "d = input(\"JÁ DISCUTIU COM A VÍTIMA? responda com Y ou N \")\n",
        "if(d==\"y\"):\n",
        "  a4=1\n",
        "else:\n",
        "  a4=0\n",
        "e = input(\"JÁ TRABALHOU COM A VÍTIMA? responda com Y ou N \")\n",
        "if(e==\"y\"):\n",
        "  a5=1\n",
        "else:\n",
        "  a5=0\n",
        "p = a1+a2+a3+a4+a5\n",
        "if(p==2):\n",
        "  print(\"A PESSOA É SUSPEITA \",p)\n",
        "elif(p==3 or p==4):\n",
        "  print(\"A PESSOA É CÚMPLICE \",p)\n",
        "elif(p==5):\n",
        "  print(\"A PESSOA ASSASSINOU A VÍTIMA \",p)\n",
        "elif(p==1 or p==0):\n",
        "  print(\"ELA É INOCENTE, \", p)\n",
        "\n",
        "\n"
      ],
      "metadata": {
        "id": "bl_SaGg9shGS"
      },
      "execution_count": null,
      "outputs": []
    },
    {
      "cell_type": "code",
      "source": [
        "#Exercício 14\n",
        "import math\n",
        "a = int(input(\"Digite a primeira medida do triangulo \"))\n",
        "b = int(input(\"Digite a segunda medida do triagulo \"))\n",
        "c = int(input(\"Digite a terceira medida do triangulo \"))\n",
        "if(a<b+c and (math.sqrt((b-c)**2)<a) or b<a+c and (math.sqrt((a-c)**2)<b) or c<a+b and (math.sqrt((a-b)**2)<c)):\n",
        "  print(\"O triangulo existe \")\n",
        "  if(a>b and a>c and (a**2)==(b**2)+(c**2)):\n",
        "    print(\"Se trata de um triangulo retangulo \")\n",
        "    if(b==c):\n",
        "      print(\"Se trata de um triangulo isosceles \")\n",
        "    else:\n",
        "      print(\"Se trata de um triangulo escaleno \")\n",
        "  elif(b>a and b>c and (b**2)==(c**2)+(a**2)):\n",
        "    print(\"Se trata de um triangulo retangulo \")\n",
        "    if(a==c):\n",
        "      print(\"Se trata de um triangulo isosceles \")\n",
        "    else:\n",
        "      print(\"Se trata de um triangulo escaleno \")\n",
        "  elif(c>a and c>b and (c**2)==(b**2)+(a**2)):\n",
        "    print(\"Se trata de um triangulo retangulo \")\n",
        "    if(b==a):\n",
        "      print(\"Se trata de um triangulo isosceles \")\n",
        "    else:\n",
        "      print(\"Se trata de um triangulo escaleno \")\n",
        "  elif(a>b and a>c and (a**2)>(b**2)+(c**2)):\n",
        "    print(\"Se trata de um triangulo obtusangulo \")\n",
        "    if(b==c):\n",
        "      print(\"Se trata de um triangulo isosceles \")\n",
        "    else:\n",
        "      print(\"Se trata de um triangulo escaleno \")\n",
        "  elif(b>a and b>c and (b**2)>(a**2)+(c**2)):\n",
        "    print(\"Se trata de um triangulo obtusangulo \")\n",
        "    if(a==c):\n",
        "      print(\"Se trata de um triangulo isosceles \")\n",
        "    else:\n",
        "      print(\"Se trata de um triangulo escaleno \")\n",
        "  elif(c>a and c>b and (c**2)>(a**2)+(b**2)):\n",
        "    print(\"Se trata de um triangulo obtusangulo \")\n",
        "    if(b==a):\n",
        "      print(\"Se trata de um triangulo isosceles \")\n",
        "    else:\n",
        "      print(\"Se trata de um triangulo escaleno \")\n",
        "  elif(a>b and a>c and (a**2)<(b**2)+(c**2)):\n",
        "    print(\"Se trata de um triangulo acutangulo \")\n",
        "    if(b==c):\n",
        "      print(\"Se trata de um triangulo isosceles \")\n",
        "    else:\n",
        "      print(\"Se trata de um triangulo escaleno \")\n",
        "  elif(b>a and b>c and (b**2)<(a**2)+(c**2)):\n",
        "    print(\"Se trata de um triangulo acutangulo \")\n",
        "    if(a==c):\n",
        "      print(\"Se trata de um triangulo isosceles \")\n",
        "    else:\n",
        "      print(\"Se trata de um triangulo escaleno \")\n",
        "  elif(c>a and c>b and (c**2)<(a**2)+(b**2)):\n",
        "    print(\"Se trata de um triangulo acutangulo \")\n",
        "    if(b==a):\n",
        "      print(\"Se trata de um triangulo isosceles \")\n",
        "    else:\n",
        "      print(\"Se trata de um triangulo escaleno \")\n",
        "  elif(a==b==c):\n",
        "    print(\"Se trata de um triabgulo eq \")\n",
        "\n",
        "else:\n",
        "  print(\"O triângulo não existe \")\n",
        "\n",
        "\n",
        "\n",
        "\n",
        "\n",
        "\n"
      ],
      "metadata": {
        "id": "C3y8SDEZ6ALW"
      },
      "execution_count": null,
      "outputs": []
    },
    {
      "cell_type": "code",
      "source": [
        "#Exercício 15\n",
        "a = int(input(\"DIGITE UM ANO \"))\n",
        "a1=a%400\n",
        "a2=a%4\n",
        "a3=a%100\n",
        "if(a1==0 or a2==0 and a3!=0):\n",
        "  print(\"SE TRATA DE UM ANO BISSEXTO \")\n",
        "else:\n",
        "  print(\"NÃO SE TRATA DE UM ANO BISSEXTO \")\n"
      ],
      "metadata": {
        "id": "a6-YyRPl6kXy"
      },
      "execution_count": null,
      "outputs": []
    },
    {
      "cell_type": "code",
      "source": [
        "#Exercício 16\n",
        "d = int(input(\"DIGITE UM DIA DO MÊS \"))\n",
        "if(d<1 or d>31):\n",
        "  print(\"DIA INVÁLIDO \")\n",
        "else:\n",
        "  mes = int(input(\"DIGITE UM MÊS DO ANO \"))\n",
        "  if(mes<1 or mes>12):\n",
        "   print(\"MÊS INVÁLIDO \")\n",
        "  else:\n",
        "    a = int(input(\"DIGITE UM ANO \"))\n",
        "    if(a>3000):\n",
        "      print(\"ANO INVÁLIDO\")\n",
        "    else:\n",
        "      print(\"A DATA É VÁLIDA \")\n"
      ],
      "metadata": {
        "id": "fjxdjMRj6qCA"
      },
      "execution_count": null,
      "outputs": []
    }
  ]
}